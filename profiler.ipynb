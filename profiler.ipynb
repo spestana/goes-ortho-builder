{
 "cells": [
  {
   "cell_type": "code",
   "execution_count": 1,
   "id": "cd302420-5180-4c9b-8eb1-5f7594bdfad6",
   "metadata": {},
   "outputs": [],
   "source": [
    "import pstats\n",
    "from pstats import SortKey"
   ]
  },
  {
   "cell_type": "code",
   "execution_count": 2,
   "id": "64039c23-2a9a-4cce-9da6-3a1918aeac39",
   "metadata": {},
   "outputs": [],
   "source": [
    "p = pstats.Stats('test.prof')"
   ]
  },
  {
   "cell_type": "code",
   "execution_count": 3,
   "id": "77ed5bc3-5a9e-4424-a03b-b52d43d513f8",
   "metadata": {},
   "outputs": [
    {
     "name": "stdout",
     "output_type": "stream",
     "text": [
      "Thu Aug 29 18:48:43 2024    test.prof\n",
      "\n",
      "         804272922 function calls (769223239 primitive calls) in 2514.456 seconds\n",
      "\n",
      "   Ordered by: cumulative time\n",
      "   List reduced from 17219 to 20 due to restriction <20>\n",
      "\n",
      "   ncalls  tottime  percall  cumtime  percall filename:lineno(function)\n",
      "      6/1    0.000    0.000 2228.134 2228.134 runners.py:86(run)\n",
      "4978978/413940   56.737    0.000 2115.263    0.005 base_events.py:1908(_run_once)\n",
      "14241893/10555888   16.945    0.000 1810.108    0.000 events.py:86(_run)\n",
      "     1512    0.011    0.000 1442.933    0.954 futures.py:480(shutdown)\n",
      "     1512    0.024    0.000 1426.254    0.943 thread.py:219(shutdown)\n",
      "14569566/10555915   22.351    0.000 1305.307    0.000 {method 'run' of '_contextvars.Context' objects}\n",
      "     3076    0.016    0.000 1157.417    0.376 threading.py:1115(join)\n",
      "     3076    0.018    0.000 1149.438    0.374 threading.py:1153(_wait_for_tstate_lock)\n",
      "3244460/2539633    8.163    0.000  805.259    0.000 ioloop.py:933(_run)\n",
      "4978933/495669   28.696    0.000  740.705    0.001 selectors.py:451(select)\n",
      "      504    0.021    0.000  701.458    1.392 clip.py:10(subsetNetCDF)\n",
      "     1008    0.089    0.000  587.586    0.583 dataset.py:2234(to_netcdf)\n",
      "    28728    0.090    0.000  585.469    0.020 indexing.py:836(get_duck_array)\n",
      "    28728    0.163    0.000  571.515    0.020 indexing.py:830(_ensure_cached)\n",
      "    28728    0.157    0.000  564.709    0.020 indexing.py:787(get_duck_array)\n",
      "    24192    0.058    0.000  556.326    0.023 variable.py:960(load)\n",
      "    40326    0.164    0.000  531.140    0.013 pycompat.py:124(to_duck_array)\n",
      "      504    0.024    0.000  522.434    1.037 inject.py:245(bucket_download_file)\n",
      "      504    0.004    0.000  513.777    1.019 inject.py:154(download_file)\n",
      "      504    0.003    0.000  511.534    1.015 transfer.py:423(__exit__)\n",
      "\n",
      "\n"
     ]
    },
    {
     "data": {
      "text/plain": [
       "<pstats.Stats at 0x7f8728854cd0>"
      ]
     },
     "execution_count": 3,
     "metadata": {},
     "output_type": "execute_result"
    }
   ],
   "source": [
    "p.strip_dirs().sort_stats(SortKey.CUMULATIVE).print_stats(20)"
   ]
  },
  {
   "cell_type": "code",
   "execution_count": 4,
   "id": "bf62aeb6-c0ea-4d9f-bb9c-2c02c932de64",
   "metadata": {},
   "outputs": [
    {
     "name": "stdout",
     "output_type": "stream",
     "text": [
      "Thu Aug 29 18:48:43 2024    test.prof\n",
      "\n",
      "         804272922 function calls (769223239 primitive calls) in 2514.456 seconds\n",
      "\n",
      "   Ordered by: internal time\n",
      "   List reduced from 17219 to 20 due to restriction <20>\n",
      "\n",
      "   ncalls  tottime  percall  cumtime  percall filename:lineno(function)\n",
      "4978930/495669  822.812    0.000  285.682    0.001 {method 'poll' of 'select.epoll' objects}\n",
      "660564/45735  284.307    0.000  138.949    0.003 {built-in method time.sleep}\n",
      "1327352/129093   84.804    0.000   26.946    0.000 {method 'read' of '_ssl._SSLSocket' objects}\n",
      "    31752   69.076    0.002  129.873    0.004 netCDF4_.py:76(__setitem__)\n",
      "4978978/413940   56.737    0.000 2115.263    0.005 base_events.py:1908(_run_once)\n",
      "   573552   31.886    0.000   73.624    0.000 group.py:348(__getitem__)\n",
      "1201309/1100661   29.857    0.000   49.553    0.000 {built-in method _io.open}\n",
      "4978933/495669   28.696    0.000  740.705    0.001 selectors.py:451(select)\n",
      "14569566/10555915   22.351    0.000 1305.307    0.000 {method 'run' of '_contextvars.Context' objects}\n",
      "85027183/85001235   20.171    0.000   34.910    0.000 {built-in method builtins.isinstance}\n",
      "   335664   19.752    0.000   30.303    0.000 file_manager.py:207(_acquire_with_cache_info)\n",
      "6816024/6814886   19.331    0.000  136.358    0.000 ioloop.py:742(_run_callback)\n",
      "   544320   18.513    0.000   20.928    0.000 dataset.py:636(__init__)\n",
      "     4032   18.245    0.005   19.187    0.005 file_manager.py:226(close)\n",
      "14241893/10555888   16.945    0.000 1810.108    0.000 events.py:86(_run)\n",
      "   340704   16.856    0.000   21.134    0.000 attrs.py:52(__getitem__)\n",
      "97987/84347   16.741    0.000   19.223    0.000 {built-in method posix.listdir}\n",
      "     9072   16.641    0.002   16.641    0.002 {method 'read' of 'h5py._selector.Reader' objects}\n",
      "10689849/10689740   15.229    0.000   29.017    0.000 base_events.py:812(_call_soon)\n",
      "14162785/14162603   14.842    0.000   18.673    0.000 events.py:36(__init__)\n",
      "\n",
      "\n"
     ]
    },
    {
     "data": {
      "text/plain": [
       "<pstats.Stats at 0x7f8728854cd0>"
      ]
     },
     "execution_count": 4,
     "metadata": {},
     "output_type": "execute_result"
    }
   ],
   "source": [
    "p.strip_dirs().sort_stats(SortKey.TIME).print_stats(20)"
   ]
  },
  {
   "cell_type": "code",
   "execution_count": 5,
   "id": "ecb61a34-0fb8-4199-b6a4-d0f0f1455a73",
   "metadata": {},
   "outputs": [
    {
     "name": "stdout",
     "output_type": "stream",
     "text": [
      "Thu Aug 29 18:48:43 2024    test.prof\n",
      "\n",
      "         804272922 function calls (769223239 primitive calls) in 2514.456 seconds\n",
      "\n",
      "   Ordered by: internal time, cumulative time\n",
      "   List reduced from 17219 to 20 due to restriction <20>\n",
      "\n",
      "   ncalls  tottime  percall  cumtime  percall filename:lineno(function)\n",
      "4978930/495669  822.812    0.000  285.682    0.001 {method 'poll' of 'select.epoll' objects}\n",
      "660564/45735  284.307    0.000  138.949    0.003 {built-in method time.sleep}\n",
      "1327352/129093   84.804    0.000   26.946    0.000 {method 'read' of '_ssl._SSLSocket' objects}\n",
      "    31752   69.076    0.002  129.873    0.004 netCDF4_.py:76(__setitem__)\n",
      "4978978/413940   56.737    0.000 2115.263    0.005 base_events.py:1908(_run_once)\n",
      "   573552   31.886    0.000   73.624    0.000 group.py:348(__getitem__)\n",
      "1201309/1100661   29.857    0.000   49.553    0.000 {built-in method _io.open}\n",
      "4978933/495669   28.696    0.000  740.705    0.001 selectors.py:451(select)\n",
      "14569566/10555915   22.351    0.000 1305.307    0.000 {method 'run' of '_contextvars.Context' objects}\n",
      "85027183/85001235   20.171    0.000   34.910    0.000 {built-in method builtins.isinstance}\n",
      "   335664   19.752    0.000   30.303    0.000 file_manager.py:207(_acquire_with_cache_info)\n",
      "6816024/6814886   19.331    0.000  136.358    0.000 ioloop.py:742(_run_callback)\n",
      "   544320   18.513    0.000   20.928    0.000 dataset.py:636(__init__)\n",
      "     4032   18.245    0.005   19.187    0.005 file_manager.py:226(close)\n",
      "14241893/10555888   16.945    0.000 1810.108    0.000 events.py:86(_run)\n",
      "   340704   16.856    0.000   21.134    0.000 attrs.py:52(__getitem__)\n",
      "97987/84347   16.741    0.000   19.223    0.000 {built-in method posix.listdir}\n",
      "     9072   16.641    0.002   16.641    0.002 {method 'read' of 'h5py._selector.Reader' objects}\n",
      "10689849/10689740   15.229    0.000   29.017    0.000 base_events.py:812(_call_soon)\n",
      "14162785/14162603   14.842    0.000   18.673    0.000 events.py:36(__init__)\n",
      "\n",
      "\n"
     ]
    },
    {
     "data": {
      "text/plain": [
       "<pstats.Stats at 0x7f8728854cd0>"
      ]
     },
     "execution_count": 5,
     "metadata": {},
     "output_type": "execute_result"
    }
   ],
   "source": [
    "p.sort_stats(SortKey.TIME, SortKey.CUMULATIVE).print_stats(20)"
   ]
  },
  {
   "cell_type": "code",
   "execution_count": null,
   "id": "1ab3fdd5-0caa-4891-a775-d08a95f2bffd",
   "metadata": {},
   "outputs": [],
   "source": []
  }
 ],
 "metadata": {
  "kernelspec": {
   "display_name": "Python 3 (ipykernel)",
   "language": "python",
   "name": "python3"
  },
  "language_info": {
   "codemirror_mode": {
    "name": "ipython",
    "version": 3
   },
   "file_extension": ".py",
   "mimetype": "text/x-python",
   "name": "python",
   "nbconvert_exporter": "python",
   "pygments_lexer": "ipython3",
   "version": "3.11.9"
  }
 },
 "nbformat": 4,
 "nbformat_minor": 5
}
