{
 "cells": [
  {
   "cell_type": "code",
   "execution_count": 1,
   "id": "a1ce88e4-7e58-47b3-9be7-2cd8f561e56b",
   "metadata": {},
   "outputs": [],
   "source": [
    "import xarray as xr\n",
    "import numpy as np\n",
    "import matplotlib.pyplot as plt\n",
    "from PIL import Image"
   ]
  },
  {
   "cell_type": "code",
   "execution_count": 2,
   "id": "096c68e7-529a-4e42-a70f-5bbab8811f9d",
   "metadata": {},
   "outputs": [],
   "source": [
    "def makeABIrgb_fromReflectance(R_ref, G_ref, B_ref):\n",
    "    \n",
    "    ''' Create RGB images given GOES-R ABI Channel 01, 02, and 03 datasets.\n",
    "        Adapted from https://github.com/daniellelosos/True-Color-Image_GOES-R-ABI-L1b-Radiances\n",
    "        \n",
    "        returns:\n",
    "                RGB: \"True Color\" RGB\n",
    "                RGB_veggie: \"False Color\" RGB\n",
    "    '''\n",
    "    \n",
    "    # Apply range limits for each channel. Reflectance values must be between 0 and 1.\n",
    "    R_ref = (R_ref - np.min(R_ref)) / (np.max(R_ref) - np.min(R_ref)) # np.clip(R_ref, 0, 1)\n",
    "    G_ref = (G_ref - np.min(G_ref)) / (np.max(G_ref) - np.min(G_ref)) # np.clip(G_ref, 0, 1)\n",
    "    B_ref = (B_ref - np.min(B_ref)) / (np.max(B_ref) - np.min(B_ref)) # np.clip(B_ref, 0, 1)\n",
    "    \n",
    "    # Apply a gamma correction to the image to correct ABI detector brightness\n",
    "    gamma = 2.2\n",
    "    Red = np.power(R_ref, 1/gamma)\n",
    "    Green = np.power(G_ref, 1/gamma)\n",
    "    Blue = np.power(B_ref, 1/gamma)\n",
    "    \n",
    "    # GOES-R Series satellites do not have a channel in the visible green range. Band 3 is a NIR channel typically used to monitor vegetation.\n",
    "    # Calculate the \"True\" Green Band to serve as a green proxy for the RGB True Color image, using a fractional combination.\n",
    "    # Source: \"Generation of GOES‐16 True Color Imagery without a Green Band\" - https://agupubs.onlinelibrary.wiley.com/doi/full/10.1029/2018EA000379\n",
    "    Green_true = 0.45 * Red + 0.1 * Green + 0.45 * Blue\n",
    "    Green_true = np.clip(Green_true, 0, 1)  # Apply band limits again, just in case.\n",
    "    \n",
    "    # Combine three RGB channels with a stacked array, then display the resulting images.\n",
    "    \n",
    "    # The RGB array with the raw veggie band\n",
    "    RGB_veggie = np.stack([Red, Green, Blue],axis=3)\n",
    "    \n",
    "    # The RGB array for the true color image\n",
    "    RGB = np.stack([Red, Green_true, Blue],axis=3)\n",
    "    \n",
    "    return RGB, RGB_veggie"
   ]
  },
  {
   "cell_type": "code",
   "execution_count": 3,
   "id": "2a021cb6-8cb0-4ea1-8c86-50fb24c9ff1d",
   "metadata": {},
   "outputs": [],
   "source": [
    "ds16b1 = xr.open_zarr('goes16-build-zarr-b1.zarr')\n",
    "ds18b1 = xr.open_zarr('goes18-build-zarr-b1.zarr')\n",
    "\n",
    "ds16b2 = xr.open_zarr('goes16-build-zarr-b2.zarr')\n",
    "ds18b2 = xr.open_zarr('goes18-build-zarr-b2.zarr')\n",
    "\n",
    "ds16b3 = xr.open_zarr('goes16-build-zarr-b3.zarr')\n",
    "ds18b3 = xr.open_zarr('goes18-build-zarr-b3.zarr')"
   ]
  },
  {
   "cell_type": "code",
   "execution_count": 4,
   "id": "7dd41b45-331b-4487-b34c-15617084dae1",
   "metadata": {},
   "outputs": [],
   "source": [
    "ds16b1['time'] = ds18b1.time\n",
    "ds18b1['Rad'] = (ds16b1.Rad + ds18b1.Rad) / 2\n",
    "da_b1 = ds18b1.Rad\n",
    "\n",
    "ds16b2['time'] = ds18b2.time\n",
    "ds18b2['Rad'] = (ds16b2.Rad + ds18b2.Rad) / 2\n",
    "da_b2 = ds18b2.Rad\n",
    "\n",
    "ds16b3['time'] = ds18b3.time\n",
    "ds18b3['Rad'] = (ds16b3.Rad + ds18b3.Rad) / 2\n",
    "da_b3 = ds18b3.Rad\n",
    "\n"
   ]
  },
  {
   "cell_type": "code",
   "execution_count": 5,
   "id": "75f43ab4-f62e-4f55-82dd-71a311efbe0b",
   "metadata": {},
   "outputs": [],
   "source": [
    "goes_RGB, goes_RGB_veggie = makeABIrgb_fromReflectance(da_b2, da_b3, da_b1)"
   ]
  },
  {
   "cell_type": "code",
   "execution_count": 6,
   "id": "786e50fe-b0a1-4cf5-93ac-9183e10ff19c",
   "metadata": {},
   "outputs": [],
   "source": [
    "def scale_values(img, m=255):\n",
    "        img_scaled = (img - np.min(img)) / (np.max(img) - np.min(img))\n",
    "        return (img_scaled * m).astype(np.uint8)"
   ]
  },
  {
   "cell_type": "code",
   "execution_count": 7,
   "id": "79628538-031b-4c26-8808-79b1b16672e5",
   "metadata": {},
   "outputs": [],
   "source": [
    "imgs = np.random.randint(0, 255, (100, 50, 50, 3), dtype=np.uint8)\n",
    "imgs = [Image.fromarray(scale_values(img)) for img in goes_RGB]\n",
    "# duration is the number of milliseconds between frames; this is 40 frames per second\n",
    "imgs[0].save(\"array2.gif\", save_all=True, append_images=imgs[1:], duration=100, loop=0)"
   ]
  },
  {
   "cell_type": "code",
   "execution_count": null,
   "id": "48e76aa1-f2f6-42e3-bce2-f311a5f26e2f",
   "metadata": {},
   "outputs": [],
   "source": []
  }
 ],
 "metadata": {
  "kernelspec": {
   "display_name": "Python 3 (ipykernel)",
   "language": "python",
   "name": "python3"
  },
  "language_info": {
   "codemirror_mode": {
    "name": "ipython",
    "version": 3
   },
   "file_extension": ".py",
   "mimetype": "text/x-python",
   "name": "python",
   "nbconvert_exporter": "python",
   "pygments_lexer": "ipython3",
   "version": "3.11.9"
  }
 },
 "nbformat": 4,
 "nbformat_minor": 5
}
